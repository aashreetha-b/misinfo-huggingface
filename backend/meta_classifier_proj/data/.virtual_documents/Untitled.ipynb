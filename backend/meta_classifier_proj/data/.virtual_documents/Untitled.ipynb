  !pip install datasets



from datasets import load_dataset

# Load the hate subset from tweet_eval
dataset = load_dataset("tweet_eval", "hate")

# Save to CSV files
dataset["train"].to_csv("raw_data/tweeteval_hate_train.csv", index=False)
dataset["validation"].to_csv("raw_data/tweeteval_hate_validation.csv", index=False)
dataset["test"].to_csv("raw_data/tweeteval_hate_test.csv", index=False)

print("✅ Hate subset downloaded and saved!")
     



